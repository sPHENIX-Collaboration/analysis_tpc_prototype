{
 "cells": [
  {
   "cell_type": "markdown",
   "metadata": {},
   "source": [
    "# Introduction\n",
    "\n",
    "dE/dx analysis for sPHENIX TPC 2019 data from [FNAL beam test](https://wiki.bnl.gov/sPHENIX/index.php/2019_TPC_FNAL_test_beam). The prototype contains 16 layer readout pads with 50/50 Ne/CF4 gas. The track segment in each layer is ~1.25cm long. The beam is 120 GeV/c proton beam.\n",
    "\n",
    "Run with sPHENIX ROOT C++ [Jupyter Lab env at RCF](https://jupyter.sdcc.bnl.gov)\n",
    "\n",
    "## Gas comparison\n",
    "\n",
    "Here is back-envelop comparison on the dE/dx resolution. Gas property table are from *Properties of some gas mixtures used in tracking detectors*, Archana Sharma (Darmstadt, GSI), SLAC-J-ICFA-16-3, SLAC-JOURNAL-ICFA-16-3. This table is generated with [this Google Sheet](https://docs.google.com/spreadsheets/d/1qq11DcImGKFkpsDjDwSFTa7XiGOt-wzX3_4_j2ZEkFU/edit?usp=sharing).\n",
    "\n",
    "| TPC                   | Pad rows | Gas                          | Radial Drift Vol. [cm] | dE/dx [MeV/cm] | Primary Ionization [/cm] | Total Ionization [/cm] | Total Ionization/Initial Ionization | Integrated Primary Ionization | dE/dx resolution eta=0 | Reference                                   |\n",
    "|-----------------------|----------|------------------------------|-------------------------|----------------|--------------------------|------------------------|-------------------------------------|-------------------------------|------------------------|---------------------------------------------|\n",
    "| STAR w/ iTPC          | 72       | P10 - 10% methane, 90% argon | 150                     | 2.344          | 23.2                     | 89.9                   | 3.9                                 | 3,480                         | 6.5%                  | RHIC S&T review 2019, Caines; iTPC proposal |\n",
    "| ALICE 2010            | 160      | (Ne/CO2 90/10)/N2 5% (N2 not in calculation)         | 161.8                   | 1.705          | 14.35                    | 47.8                   | 3.3                                 | 2,322                         | 5% (cosmic)                 | doi:10.1016/j.nima.2010.04.042              |\n",
    "| sPHENIX2019 w/ EIC R1 | 48       | Ne/CF4 50/50                 | 60                      | 4.28           | 31.5                     | 71.5                   | 2.3                                 | 1,890                         | This study             | sPHENIX TDR;   arXiv:1402.1209 [nucl-ex]    |\n",
    "\n",
    "By using 50% CF4, sPHENIX 2019 gas produce very high primary ionization per cm of traverse, roughly two times that of ALICE and about 50% higher than STAR. With the compact active volumne, this translate to ~1900 primary ionization that is 20% lower than ALICE and roughly half of STAR. Meanwhile, the total ionization to primary ionization ratio for sPHENIX 2019 gas is very low. Lower ratio leads to less high side tail that improves the efficiency of each measurement towards the dE/dx resolution.\n",
    "\n",
    "## This study\n",
    "\n",
    "This study extracts the dE/dx resolution from the sPHENIX 2019 beam test at FNAL by projecting the 16 layer prototype device to fully fledged 48-layer configration envisioned for EIC. \n",
    "\n",
    "Note the energy deposition from 120 GeV/proton is higher than MIP due to radiative rise that leads to slightly better dE/dx resolution due to ionization statistics. \n"
   ]
  },
  {
   "cell_type": "markdown",
   "metadata": {},
   "source": [
    "# Input"
   ]
  },
  {
   "cell_type": "code",
   "execution_count": 1,
   "metadata": {},
   "outputs": [],
   "source": [
    "// const TString infile = \"scan2/tpc_beam_ALL-0000.evt_TpcPrototypeGenFitTrkFitter.root\";\n",
    "// // const TString description = \"Position scan 2, #eta = 0, 3+ pad clusters\";\n",
    "// // const TCut cut = \"TPCTrack.nCluster>=14 && Sum$(ClusterY_Rotated>-.3) == 0 && TPCTrack.clusterSizePhi >= 10\";\n",
    "// const TString description = \"Scan 2, 120 GeV/c proton, #eta = 0, 2+ pad clusters\";\n",
    "// const TCut cut = \"TPCTrack.nCluster>=14 && Sum$(ClusterY_Rotated>-.3) == 0 && Sum$(ClusterY_Rotated<-1.5) == 0 && TPCTrack.clusterSizePhi >= 8\";\n",
    "\n",
    "const TString infile = \"eta_0.3/tpc_beam_ALL-0000.evt_TpcPrototypeGenFitTrkFitter.root\";\n",
    "// const TString description = \"Position scan 2, #eta = 0, 3+ pad clusters\";\n",
    "// const TCut cut = \"TPCTrack.nCluster>=14 && Sum$(ClusterY_Rotated>-.3) == 0 && TPCTrack.clusterSizePhi >= 10\";\n",
    "const TString description = \"120 GeV/c proton, #eta = 0.3, 2+ pad clusters\";\n",
    "const TCut cut = \"TPCTrack.nCluster>=12 && Sum$(ClusterY_Rotated>-.3) == 0 && Sum$(ClusterY_Rotated<-1.5) == 0 && TPCTrack.clusterSizePhi >= 8\";"
   ]
  },
  {
   "cell_type": "code",
   "execution_count": 2,
   "metadata": {},
   "outputs": [],
   "source": [
    "%%cpp -d\n",
    "\n",
    "#include \"sPhenixStyle.C\"\n",
    "#include \"SaveCanvas.C\"\n",
    "\n",
    "TFile *_file0 = NULL;\n",
    "TTree *T(nullptr);"
   ]
  },
  {
   "cell_type": "code",
   "execution_count": 3,
   "metadata": {},
   "outputs": [
    {
     "name": "stdout",
     "output_type": "stream",
     "text": [
      "sPhenixStyle: Applying nominal settings.\n",
      "sPhenixStyle: ROOT6 mode\n"
     ]
    }
   ],
   "source": [
    "// gSystem->Load(\"libtpc2019.so\");\n",
    "\n",
    "SetsPhenixStyle();\n",
    "TVirtualFitter::SetDefaultFitter(\"Minuit2\");\n",
    "gStyle->SetLegendTextSize(0);"
   ]
  },
  {
   "cell_type": "code",
   "execution_count": 4,
   "metadata": {},
   "outputs": [
    {
     "name": "stdout",
     "output_type": "stream",
     "text": [
      "Loaded 5 root files with eventT in eta_0.3/tpc_beam_*-0000.evt_TpcPrototypeGenFitTrkFitter.root\n"
     ]
    }
   ],
   "source": [
    "//\n",
    "if (!_file0)\n",
    "{\n",
    "    TString chian_str = infile;\n",
    "    chian_str.ReplaceAll(\"ALL\", \"*\");\n",
    "\n",
    "    TChain *t = new TChain(\"T\");\n",
    "    const int n = t->Add(chian_str);\n",
    "\n",
    "    cout << \"Loaded \" << n << \" root files with eventT in \" << chian_str << endl;\n",
    "    assert(n > 0);\n",
    "\n",
    "    T = t;\n",
    "\n",
    "    _file0 = new TFile;\n",
    "    _file0->SetName(infile);\n",
    "}\n",
    "//\n",
    "// description = desc;"
   ]
  },
  {
   "cell_type": "code",
   "execution_count": 5,
   "metadata": {},
   "outputs": [],
   "source": [
    "T->SetAlias(\"PhiCenter\", \"pi/12 + pi\");  // center line azimuthal angle for TPC sector 0\n",
    "T->SetAlias(\"ClusterY_Rotated\", \"TPCTrack.clusterX*cos(PhiCenter + pi/2) + TPCTrack.clusterY*sin(PhiCenter + pi/2)\");  // center line azimuthal angle for TPC sector 0\n",
    "T->SetAlias(\"ClusterX_Rotated\", \"TPCTrack.clusterX*cos(PhiCenter) + TPCTrack.clusterY*sin(PhiCenter)\");  // center line azimuthal angle for TPC sector 0\n"
   ]
  },
  {
   "cell_type": "markdown",
   "metadata": {},
   "source": [
    "# QA"
   ]
  },
  {
   "cell_type": "code",
   "execution_count": 6,
   "metadata": {},
   "outputs": [
    {
     "name": "stderr",
     "output_type": "stream",
     "text": [
      "Warning in <TClass::Init>: no dictionary for class PHObject is available\n",
      "Warning in <TClass::Init>: no dictionary for class SvtxTrack_v1 is available\n",
      "Warning in <TClass::Init>: no dictionary for class SvtxTrack is available\n",
      "Warning in <TClass::Init>: no dictionary for class TpcPrototypeTrack is available\n"
     ]
    },
    {
     "name": "stdout",
     "output_type": "stream",
     "text": [
      "Save TH1 hCluster\n",
      "Save TH1 hClusterCut\n",
      "Save TH1 hClusterE\n",
      "Save TH1 hClusterECut\n",
      "Save TH1 hClusterE1\n",
      "Save TH1 hClusterE2\n",
      "Save TH1 hClusterE3\n",
      "Save TH1 hClusterE4\n"
     ]
    },
    {
     "name": "stderr",
     "output_type": "stream",
     "text": [
      "Info in <TCanvas::Print>: png file eta_0.3/tpc_beam_ALL-0000.evt_TpcPrototypeGenFitTrkFitter.rootTrackQA.png has been created\n",
      "Info in <TCanvas::SaveAs>: ROOT file eta_0.3/tpc_beam_ALL-0000.evt_TpcPrototypeGenFitTrkFitter.rootTrackQA.root has been created\n"
     ]
    },
    {
     "data": {
      "image/png": "[encoded data removed]",
      "text/plain": [
       "<IPython.core.display.Image object>"
      ]
     },
     "metadata": {},
     "output_type": "display_data"
    },
    {
     "name": "stdout",
     "output_type": "stream",
     "text": [
      "Save TH1 hClusterY\n",
      "Save TH1 hClusterYCut\n"
     ]
    },
    {
     "name": "stderr",
     "output_type": "stream",
     "text": [
      "Info in <TCanvas::SaveSource>: C++ Macro file: eta_0.3/tpc_beam_ALL-0000.evt_TpcPrototypeGenFitTrkFitter.rootTrackQA.C has been generated\n"
     ]
    }
   ],
   "source": [
    "{\n",
    "    TCanvas *c1 = new TCanvas(\"TrackQA\", \"TrackQA\", 1400, 860);\n",
    "    c1->Divide(3, 1);\n",
    "    int idx = 1;\n",
    "    TPad *p = nullptr;\n",
    "\n",
    "    p = (TPad *) c1->cd(idx++);\n",
    "    c1->Update();\n",
    "\n",
    "    TH1 *hCluster = new TH1F(\"hCluster\", \";# cluster per track\", 16, .5, 16.5);\n",
    "    TH1 *hClusterCut = new TH1F(\"hClusterCut\", \";# cluster per track\", 16, .5, 16.5);\n",
    "    hClusterCut->SetFillColor(kGreen - 5);\n",
    "    T->Draw(\"TPCTrack.nCluster>>hCluster\");\n",
    "    T->Draw(\"TPCTrack.nCluster>>hClusterCut\", Form(\"Sum$(%s)>0\",cut.GetTitle()), \"same\");\n",
    "\n",
    "\n",
    "    p = (TPad *) c1->cd(idx++);\n",
    "    c1->Update();\n",
    "\n",
    "    TH1 *hClusterE = new TH1F(\"hClusterE\", \";Cluster Energy\", 200, 0, 3000);\n",
    "    TH1 *hClusterECut = new TH1F(\"hClusterECut\", \";Cluster Energy\", 200, 0, 3000);\n",
    "    hClusterECut->SetFillColor(kGreen - 5);\n",
    "    hClusterECut->SetLineWidth(0);\n",
    "    T->Draw(\"TPCTrack.clusterE>>hClusterE\");\n",
    "    T->Draw(\"TPCTrack.clusterE>>hClusterECut\",cut,\"same\");\n",
    "\n",
    "    TH1 *hClusterE1 = (TH1 *) hClusterE -> Clone(\"hClusterE1\");\n",
    "    hClusterE1->SetLineColor(kRed + 2);\n",
    "    T->Draw(\"TPCTrack.clusterE>>hClusterE1\",  \"TPCTrack.clusterSizePhi == 6\", \"same\");\n",
    "    TH1 *hClusterE2 = (TH1 *) hClusterE -> Clone(\"hClusterE2\");\n",
    "    hClusterE2->SetLineColor(kGreen + 2);\n",
    "    T->Draw(\"TPCTrack.clusterE>>hClusterE2\", \"TPCTrack.clusterSizePhi == 8\", \"same\");\n",
    "    TH1 *hClusterE3 = (TH1 *) hClusterE -> Clone(\"hClusterE3\");\n",
    "    hClusterE3->SetLineColor(kBlue + 2);\n",
    "    T->Draw(\"TPCTrack.clusterE>>hClusterE3\",  \"TPCTrack.clusterSizePhi ==10\", \"same\");\n",
    "    TH1 *hClusterE4 = (TH1 *) hClusterE -> Clone(\"hClusterE4\");\n",
    "    hClusterE4->SetLineColor(kMagenta + 2);\n",
    "    T->Draw(\"TPCTrack.clusterE>>hClusterE4\",  \"TPCTrack.clusterSizePhi >10\", \"same\");\n",
    "\n",
    "\n",
    "    p = (TPad *) c1->cd(idx++);\n",
    "    c1->Update();\n",
    "\n",
    "\n",
    "    //     TH1 *hClusterPhi = new TH1F(\"hClusterPhi\", \";Cluster Phi [rad]\", 1000, -4, -2);\n",
    "    //     T->Draw(\"TPCTrack.clusterProjectionPhi[]>>hClusterPhi\");\n",
    "\n",
    "    TH1 *hClusterY = new TH1F(\"hClusterY\", \";Cluster Y TPC frame [cm]\", 1000, -5, 5);\n",
    "    TH1 *hClusterYCut = new TH1F(\"hClusterYCut\", \";Cluster Y TPC frame [cm]\", 1000, -5, 5);\n",
    "    hClusterYCut->SetFillColor(kGreen - 5);\n",
    "    T->Draw(\"ClusterY_Rotated>>hClusterY\");\n",
    "    T->Draw(\"ClusterY_Rotated>>hClusterYCut\", cut,\"same\");\n",
    "\n",
    "\n",
    "\n",
    "    c1->Draw();\n",
    "\n",
    "\n",
    "    SaveCanvas(c1,\n",
    "     TString(_file0->GetName()) + TString(c1->GetName()), false);\n",
    "}"
   ]
  },
  {
   "cell_type": "markdown",
   "metadata": {},
   "source": [
    "Note the cluster energy for 1-pad and 2-pad cluster (red, green) are significantly lower than that from 3/3+ pad clusters (blue, magenta). To be understood. For now, just analyzing 2+ pad clusters as the charge spread from zig-zag are expected to spread the charge to 3 pads. "
   ]
  },
  {
   "cell_type": "markdown",
   "metadata": {},
   "source": [
    "# PDF "
   ]
  },
  {
   "cell_type": "code",
   "execution_count": 7,
   "metadata": {},
   "outputs": [],
   "source": [
    "%%cpp -d\n",
    "\n",
    "\n",
    "Double_t langaufun(Double_t *x, Double_t *par)\n",
    "{\n",
    "  //Fit parameters:\n",
    "  //par[0]=Width (scale) parameter of Landau density\n",
    "  //par[1]=Most Probable (MP, location) parameter of Landau density\n",
    "  //par[2]=Total area (integral -inf to inf, normalization constant)\n",
    "  //par[3]=Width (sigma) of convoluted Gaussian function\n",
    "  //\n",
    "  //In the Landau distribution (represented by the CERNLIB approximation),\n",
    "  //the maximum is located at x=-0.22278298 with the location parameter=0.\n",
    "  //This shift is corrected within this function, so that the actual\n",
    "  //maximum is identical to the MP parameter.\n",
    "\n",
    "  // Numeric constants\n",
    "  Double_t invsq2pi = 0.3989422804014;  // (2 pi)^(-1/2)\n",
    "  Double_t mpshift = -0.22278298;       // Landau maximum location\n",
    "\n",
    "  // Control constants\n",
    "  Double_t np = 100.0;  // number of convolution steps\n",
    "  Double_t sc = 5.0;    // convolution extends to +-sc Gaussian sigmas\n",
    "\n",
    "  // Variables\n",
    "  Double_t xx;\n",
    "  Double_t mpc;\n",
    "  Double_t fland;\n",
    "  Double_t sum = 0.0;\n",
    "  Double_t xlow, xupp;\n",
    "  Double_t step;\n",
    "  Double_t i;\n",
    "\n",
    "  // MP shift correction\n",
    "  mpc = par[1] - mpshift * par[0];\n",
    "\n",
    "  // Range of convolution integral\n",
    "  xlow = x[0] - sc * par[3];\n",
    "  xupp = x[0] + sc * par[3];\n",
    "\n",
    "  step = (xupp - xlow) / np;\n",
    "\n",
    "  // Convolution integral of Landau and Gaussian by sum\n",
    "  for (i = 1.0; i <= np / 2; i++)\n",
    "  {\n",
    "    xx = xlow + (i - .5) * step;\n",
    "    fland = TMath::Landau(xx, mpc, par[0]) / par[0];\n",
    "    sum += fland * TMath::Gaus(x[0], xx, par[3]);\n",
    "\n",
    "    xx = xupp - (i - .5) * step;\n",
    "    fland = TMath::Landau(xx, mpc, par[0]) / par[0];\n",
    "    sum += fland * TMath::Gaus(x[0], xx, par[3]);\n",
    "  }\n",
    "\n",
    "  return (par[2] * step * sum * invsq2pi / par[3]);\n",
    "}\n",
    "\n",
    "TF1 *langaufit(TH1 *his,\n",
    "               const vector<double> &fitrange,\n",
    "               const vector<double> &startvalues,\n",
    "               const vector<double> &parlimitslo, const vector<double> &parlimitshi\n",
    "               //    ,\n",
    "               //    const vector<double> &fitparams, const vector<double> &fiterrors,\n",
    "               //    const vector<double> &ChiSqr, Int_t *NDF\n",
    ")\n",
    "{\n",
    "  // Once again, here are the Landau * Gaussian parameters:\n",
    "  //   par[0]=Width (scale) parameter of Landau density\n",
    "  //   par[1]=Most Probable (MP, location) parameter of Landau density\n",
    "  //   par[2]=Total area (integral -inf to inf, normalization constant)\n",
    "  //   par[3]=Width (sigma) of convoluted Gaussian function\n",
    "  //\n",
    "  // Variables for langaufit call:\n",
    "  //   his             histogram to fit\n",
    "  //   fitrange[2]     lo and hi boundaries of fit range\n",
    "  //   startvalues[4]  reasonable start values for the fit\n",
    "  //   parlimitslo[4]  lower parameter limits\n",
    "  //   parlimitshi[4]  upper parameter limits\n",
    "  //   fitparams[4]    returns the final fit parameters\n",
    "  //   fiterrors[4]    returns the final fit errors\n",
    "  //   ChiSqr          returns the chi square\n",
    "  //   NDF             returns ndf\n",
    "\n",
    "  Int_t i;\n",
    "  Char_t FunName[100];\n",
    "\n",
    "  sprintf(FunName, \"Fitfcn_%s\", his->GetName());\n",
    "\n",
    "  TF1 *ffitold = (TF1 *) gROOT->GetListOfFunctions()->FindObject(FunName);\n",
    "  if (ffitold) delete ffitold;\n",
    "\n",
    "  TF1 *ffit = new TF1(FunName, langaufun, fitrange[0], fitrange[1], 4);\n",
    "  ffit->SetParameters(startvalues.data());\n",
    "  ffit->SetParNames(\"Width\", \"MP\", \"Area\", \"GSigma\");\n",
    "\n",
    "  for (i = 0; i < 4; i++)\n",
    "  {\n",
    "    ffit->SetParLimits(i, parlimitslo[i], parlimitshi[i]);\n",
    "  }\n",
    "\n",
    "  his->Fit(FunName, \"RB0\");  // fit within specified range, use ParLimits, do not plot\n",
    "\n",
    "  //   ffit->GetParameters(fitparams);    // obtain fit parameters\n",
    "  //   for (i=0; i<4; i++) {\n",
    "  //      fiterrors[i] = ffit->GetParError(i);     // obtain fit parameter errors\n",
    "  //   }\n",
    "  //   ChiSqr[0] = ffit->GetChisquare();  // obtain chi^2\n",
    "  //   NDF[0] = ffit->GetNDF();           // obtain ndf\n",
    "\n",
    "  return (ffit);  // return fit function\n",
    "}"
   ]
  },
  {
   "cell_type": "code",
   "execution_count": 8,
   "metadata": {},
   "outputs": [
    {
     "name": "stdout",
     "output_type": "stream",
     "text": [
      "\n",
      "****************************************\n",
      "Minimizer is Minuit2\n",
      "Chi2                      =      799.118\n",
      "NDf                       =          166\n",
      "Edm                       =  2.69773e-07\n",
      "NCalls                    =          228\n",
      "Width                     =      58.4105   +/-   1.02766      \t (limited)\n",
      "MP                        =      379.974   +/-   1.95005      \t (limited)\n",
      "Area                      =       335074   +/-   2621.04      \t (limited)\n",
      "GSigma                    =      82.8787   +/-   2.15013      \t (limited)\n"
     ]
    },
    {
     "name": "stderr",
     "output_type": "stream",
     "text": [
      "Info in <TCanvas::Print>: png file eta_0.3/tpc_beam_ALL-0000.evt_TpcPrototypeGenFitTrkFitter.rootTrackClusterEnergy.png has been created\n"
     ]
    },
    {
     "data": {
      "image/png": "[encoded data removed]",
      "text/plain": [
       "<IPython.core.display.Image object>"
      ]
     },
     "metadata": {},
     "output_type": "display_data"
    },
    {
     "name": "stdout",
     "output_type": "stream",
     "text": [
      "Save TH1 hClusterEnergy\n",
      "Save TF1 Fitfcn_hClusterEnergy\n"
     ]
    },
    {
     "name": "stderr",
     "output_type": "stream",
     "text": [
      "Info in <TCanvas::SaveAs>: ROOT file eta_0.3/tpc_beam_ALL-0000.evt_TpcPrototypeGenFitTrkFitter.rootTrackClusterEnergy.root has been created\n",
      "Info in <TCanvas::SaveSource>: C++ Macro file: eta_0.3/tpc_beam_ALL-0000.evt_TpcPrototypeGenFitTrkFitter.rootTrackClusterEnergy.C has been generated\n"
     ]
    }
   ],
   "source": [
    "TH1 *hClusterEnergy = new TH1F(\"hClusterEnergy\", \";Cluster Energy on good track [ADU];Count / bin\", 250, 0, 5000);\n",
    "TF1 *hClusterEnergyFit = nullptr;\n",
    "\n",
    "{\n",
    "    TCanvas *c1 = new TCanvas(\"TrackClusterEnergy\", \"TrackClusterEnergy\", 1200, 860);\n",
    "    //  c1->Divide(2, 1);\n",
    "    int idx = 1;\n",
    "    TPad *p = nullptr;\n",
    "\n",
    "    p = (TPad *) c1->cd(idx++);\n",
    "    c1->Update();\n",
    "    p->SetLogy();\n",
    "\n",
    "    T->Draw(\"TPCTrack.clusterE>>hClusterEnergy\", cut, \"goff\");\n",
    "    //  TGraph *gPhiDistortion = FitProfile(hPhiDistortion);\n",
    "\n",
    "    hClusterEnergyFit = langaufit(hClusterEnergy,\n",
    "                       {0, 5000},\n",
    "                       {200, 500, (double) T->GetEntries(cut) * 10, 200},\n",
    "                       {0, 0, 0, 0},\n",
    "                       {5000, 5000, 1e10, 5000});\n",
    "    hClusterEnergyFit->SetLineColor(kBlue + 2);\n",
    "\n",
    "    hClusterEnergy->Draw();\n",
    "    hClusterEnergyFit->Draw(\"same\");\n",
    "    //    gPhiDistortion->Draw(\"p\");\n",
    "\n",
    "    TLegend *leg = new TLegend(.4, .7, .95, .9,  + \"Cluster Energy on good track\");\n",
    "    leg->AddEntry(hClusterEnergy, TString(\"Data: \") + description, \"l\");\n",
    "    leg->AddEntry(hClusterEnergyFit,\n",
    "                Form(\"Langdau * Gauss Fit, #mu= %.0f ADU\", hClusterEnergyFit->GetParameter(1)), \"l\");\n",
    "    leg->Draw();\n",
    "\n",
    "    c1->Draw();\n",
    "    SaveCanvas(c1,\n",
    "             TString(_file0->GetName()) + TString(c1->GetName()), kFALSE);\n",
    "}"
   ]
  },
  {
   "cell_type": "markdown",
   "metadata": {},
   "source": [
    "# Resampling\n",
    "\n",
    "## Direct sampling from cluster-E PDF"
   ]
  },
  {
   "cell_type": "code",
   "execution_count": 9,
   "metadata": {},
   "outputs": [],
   "source": [
    "%%cpp -d\n",
    "\n",
    "#include <cassert>\n",
    "\n",
    "vector<double> dEdXResampling(const TH1 * hPDF, const int N_layer = 48)\n",
    "{\n",
    "    assert(hPDF);\n",
    "    \n",
    "    vector<double> d;\n",
    "    \n",
    "    for (int i = 0; i<N_layer; ++i)\n",
    "    {\n",
    "        d.push_back(hPDF -> GetRandom ());\n",
    "    }\n",
    "    \n",
    "    return d;\n",
    "}"
   ]
  },
  {
   "cell_type": "markdown",
   "metadata": {},
   "source": [
    "## Truncated means"
   ]
  },
  {
   "cell_type": "code",
   "execution_count": 10,
   "metadata": {},
   "outputs": [],
   "source": [
    "%%cpp -d\n",
    "\n",
    "\n",
    "double dEdxSampleTruncatedMean(const double TruncatePercentage, const TH1 * hPDF, const int N_layer = 48)\n",
    "{\n",
    "    assert(TruncatePercentage >=0);\n",
    "    assert(TruncatePercentage <1);\n",
    "    \n",
    "    const int N_keep = int (N_layer * (1-TruncatePercentage));\n",
    "    \n",
    "    vector<double> hits = dEdXResampling(hPDF, N_layer);\n",
    "    \n",
    "    sort(hits.begin(), hits.end()); \n",
    "    \n",
    "    double sum = 0;\n",
    "    for (int i =0; i<N_keep; ++i)\n",
    "    {\n",
    "        sum += hits[i];\n",
    "    }\n",
    "    \n",
    "    const double mean = sum/N_keep;\n",
    "    \n",
    "    return mean;\n",
    "}"
   ]
  },
  {
   "cell_type": "code",
   "execution_count": 11,
   "metadata": {},
   "outputs": [],
   "source": [
    "%%cpp -d\n",
    "\n",
    "TH1 * dEdxStatTruncatedMean(const TH1 * hPDF, TString name, const int N_sample, const int N_layer, const double TruncatePercentage, Color_t color)\n",
    "{\n",
    "    TH1 * hClusterEnergyTMean = (TH1 *) hClusterEnergy->Clone(name);\n",
    "    hClusterEnergyTMean->Reset();\n",
    "//     hClusterEnergyTMean->GetXaxis()->SetRangeUser(0, 1000);\n",
    "    \n",
    "    for (int sample = 0 ; sample < N_sample; ++sample)\n",
    "    {\n",
    "        \n",
    "        const double mean = dEdxSampleTruncatedMean(TruncatePercentage, hClusterEnergy, N_layer);\n",
    "        if (sample % 10000 == 0)\n",
    "            cout <<name<<\" - Sample \"<<sample<<\" = \"<<mean<<endl;\n",
    "//         const double mean = 0;\n",
    "        hClusterEnergyTMean -> Fill(mean);\n",
    "    }\n",
    "    \n",
    "    hClusterEnergyTMean->Sumw2();\n",
    "    hClusterEnergyTMean->Fit(\"gaus\",\"0\");\n",
    "    \n",
    "    hClusterEnergyTMean->SetLineColor(color-3);\n",
    "    hClusterEnergyTMean->SetMarkerColor(color);\n",
    "    ((TF1 *)(hClusterEnergyTMean->GetListOfFunctions()->At(0)))->SetLineColor(color-5);\n",
    "    ((TF1 *)(hClusterEnergyTMean->GetListOfFunctions()->At(0)))->SetNpx(1000);\n",
    "    \n",
    "    return hClusterEnergyTMean;\n",
    "    \n",
    "}"
   ]
  },
  {
   "cell_type": "markdown",
   "metadata": {},
   "source": [
    "## Likelihood fit method"
   ]
  },
  {
   "cell_type": "code",
   "execution_count": 12,
   "metadata": {},
   "outputs": [],
   "source": [
    "%%cpp -d\n",
    "\n",
    "double dEdxSampleML(const TH1 * hPDF, const TF1 * fFit, const int N_layer = 48)\n",
    "{\n",
    "    \n",
    "    vector<double> hits = dEdXResampling(hPDF, N_layer);\n",
    "    \n",
    "    unique_ptr<TH1> hTrack ((TH1*) hPDF->Clone(\"hTrack\")); hTrack->Reset();\n",
    "    unique_ptr<TF1> fTrackFit (new TF1(\"fTrackFit\", langaufun,0, 5000, 4));\n",
    "    fTrackFit->SetParNames(\"Width\", \"MP\", \"Area\", \"GSigma\");\n",
    "\n",
    "    for (const auto hit : hits)\n",
    "    {\n",
    "        hTrack->Fill(hit);\n",
    "    }\n",
    "    \n",
    "// Width                     =      62.8982   +/-   0.807918     \t (limited)\n",
    "// MP                        =      384.351   +/-   1.42708      \t (limited)\n",
    "// Area                      =       539387   +/-   3321.22      \t (limited)\n",
    "// GSigma                    =      80.1467   +/-   1.50242      \t (limited)    \n",
    "    fTrackFit->FixParameter(0, fFit->GetParameter(0));\n",
    "    fTrackFit->SetParLimits(0, 0, 5000);\n",
    "    fTrackFit->SetParameter(1, fFit->GetParameter(1) );\n",
    "    fTrackFit->SetParLimits(1, 0, 5000);\n",
    "    fTrackFit->SetParameter(2, N_layer);\n",
    "    fTrackFit->SetParLimits(2, 0, N_layer*100);\n",
    "    fTrackFit->FixParameter(3, fFit->GetParameter(3));\n",
    "    fTrackFit->SetParLimits(3, 0, 5000);\n",
    "    \n",
    "    \n",
    "//     TCanvas *c1 = new TCanvas(\"dEdxSampleML2\", \"dEdxSampleML2\", 1200, 860);\n",
    "//     hTrack->DrawClone();\n",
    "    \n",
    "// //     fTrackFit->DrawClone(\"\");\n",
    "// //     fTrackFit->Print(\"V\");\n",
    "    \n",
    "//     hTrack->Fit(fTrackFit.get(), \"LMN0Q\"); // loglikelihood fit\n",
    "    hTrack->Fit(fTrackFit.get(), \"LN0Q\"); // loglikelihood fit\n",
    "    \n",
    "//     fTrackFit->DrawClone(\"same\");\n",
    "//     c1->Draw();\n",
    "    \n",
    "    return fTrackFit->GetParameter(1);\n",
    "}"
   ]
  },
  {
   "cell_type": "code",
   "execution_count": 13,
   "metadata": {},
   "outputs": [],
   "source": [
    "%%cpp -d\n",
    "\n",
    "TH1 * dEdxStatML(const TH1 * hPDF, TString name, const int N_sample, const int N_layer, const TF1 * fFit, Color_t color)\n",
    "{\n",
    "    TH1 * hClusterEnergyTMean = (TH1 *) hClusterEnergy->Clone(name);\n",
    "    hClusterEnergyTMean->Reset();\n",
    "//     hClusterEnergyTMean->GetXaxis()->SetRangeUser(0, 1000);\n",
    "    \n",
    "    for (int sample = 0 ; sample < N_sample; ++sample)\n",
    "    {\n",
    "        \n",
    "        const double mean = dEdxSampleML(hClusterEnergy,  fFit, N_layer);\n",
    "        if (sample % 100 == 0)\n",
    "            cout <<name<<\" - Sample \"<<sample<<\" = \"<<mean<<endl;\n",
    "//         const double mean = 0;\n",
    "        hClusterEnergyTMean -> Fill(mean);\n",
    "    }\n",
    "    \n",
    "    hClusterEnergyTMean->Sumw2();\n",
    "    hClusterEnergyTMean->Fit(\"gaus\",\"0\");\n",
    "    \n",
    "    hClusterEnergyTMean->SetLineColor(color-3);\n",
    "    hClusterEnergyTMean->SetMarkerColor(color);\n",
    "    ((TF1 *)(hClusterEnergyTMean->GetListOfFunctions()->At(0)))->SetLineColor(color-5);\n",
    "    ((TF1 *)(hClusterEnergyTMean->GetListOfFunctions()->At(0)))->SetNpx(1000);\n",
    "    \n",
    "    return hClusterEnergyTMean;\n",
    "    \n",
    "}"
   ]
  },
  {
   "cell_type": "markdown",
   "metadata": {},
   "source": [
    "## Run it"
   ]
  },
  {
   "cell_type": "code",
   "execution_count": 14,
   "metadata": {},
   "outputs": [
    {
     "name": "stdout",
     "output_type": "stream",
     "text": [
      "hClusterEnergyTMean5 - Sample 0 = 336.851\n",
      "\n",
      "****************************************\n",
      "Minimizer is Minuit2\n",
      "Chi2                      =      96.6905\n",
      "NDf                       =            8\n",
      "Edm                       =  1.24747e-07\n",
      "NCalls                    =           63\n",
      "Constant                  =      3107.88   +/-   38.1839     \n",
      "Mean                      =      362.008   +/-   0.26835     \n",
      "Sigma                     =      25.4252   +/-   0.17977      \t (limited)\n",
      "hClusterEnergyTMean3 - Sample 0 = 401.594\n",
      "\n",
      "****************************************\n",
      "Minimizer is Minuit2\n",
      "Chi2                      =      114.432\n",
      "NDf                       =            9\n",
      "Edm                       =  2.24509e-07\n",
      "NCalls                    =           60\n",
      "Constant                  =      2817.58   +/-   34.511      \n",
      "Mean                      =      414.632   +/-   0.296309    \n",
      "Sigma                     =      28.0018   +/-   0.196347     \t (limited)\n",
      "hClusterEnergyTMean2 - Sample 0 = 448.061\n",
      "\n",
      "****************************************\n",
      "Minimizer is Minuit2\n",
      "Chi2                      =      118.067\n",
      "NDf                       =            9\n",
      "Edm                       =  8.47271e-09\n",
      "NCalls                    =           60\n",
      "Constant                  =      2556.23   +/-   31.351      \n",
      "Mean                      =      449.407   +/-   0.329701    \n",
      "Sigma                     =      30.8498   +/-   0.216855     \t (limited)\n",
      "hClusterEnergyTMean1 - Sample 0 = 478.978\n",
      "\n",
      "****************************************\n",
      "Minimizer is Minuit2\n",
      "Chi2                      =      138.032\n",
      "NDf                       =           13\n",
      "Edm                       =  3.77722e-07\n",
      "NCalls                    =           60\n",
      "Constant                  =       2290.3   +/-   28.0037     \n",
      "Mean                      =      492.999   +/-   0.369668    \n",
      "Sigma                     =      34.3581   +/-   0.238396     \t (limited)\n",
      "hClusterEnergyML - Sample 0 = 394.654\n",
      "hClusterEnergyML - Sample 100 = 458.456\n",
      "hClusterEnergyML - Sample 200 = 369.672\n",
      "hClusterEnergyML - Sample 300 = 377.77\n",
      "hClusterEnergyML - Sample 400 = 353.526\n",
      "hClusterEnergyML - Sample 500 = 406.146\n",
      "hClusterEnergyML - Sample 600 = 389.58\n",
      "hClusterEnergyML - Sample 700 = 353.8\n",
      "hClusterEnergyML - Sample 800 = 443.143\n",
      "hClusterEnergyML - Sample 900 = 339.222\n",
      "hClusterEnergyML - Sample 1000 = 404.874\n",
      "hClusterEnergyML - Sample 1100 = 516.128\n",
      "hClusterEnergyML - Sample 1200 = 381.17\n",
      "hClusterEnergyML - Sample 1300 = 359.361\n",
      "hClusterEnergyML - Sample 1400 = 417.462\n",
      "hClusterEnergyML - Sample 1500 = 396.286\n",
      "hClusterEnergyML - Sample 1600 = 398.737\n",
      "hClusterEnergyML - Sample 1700 = 371.639\n",
      "hClusterEnergyML - Sample 1800 = 446.498\n",
      "hClusterEnergyML - Sample 1900 = 381.477\n",
      "hClusterEnergyML - Sample 2000 = 366.587\n",
      "hClusterEnergyML - Sample 2100 = 362.927\n",
      "hClusterEnergyML - Sample 2200 = 360.15\n",
      "hClusterEnergyML - Sample 2300 = 420.484\n",
      "hClusterEnergyML - Sample 2400 = 409.671\n",
      "hClusterEnergyML - Sample 2500 = 396.276\n",
      "hClusterEnergyML - Sample 2600 = 351.552\n",
      "hClusterEnergyML - Sample 2700 = 337.641\n",
      "hClusterEnergyML - Sample 2800 = 400.889\n",
      "hClusterEnergyML - Sample 2900 = 396.903\n",
      "hClusterEnergyML - Sample 3000 = 425.346\n",
      "hClusterEnergyML - Sample 3100 = 356.728\n",
      "hClusterEnergyML - Sample 3200 = 423.751\n",
      "hClusterEnergyML - Sample 3300 = 370.085\n",
      "hClusterEnergyML - Sample 3400 = 415.463\n",
      "hClusterEnergyML - Sample 3500 = 431.992\n",
      "hClusterEnergyML - Sample 3600 = 390.364\n",
      "hClusterEnergyML - Sample 3700 = 385.992\n",
      "hClusterEnergyML - Sample 3800 = 399.869\n",
      "hClusterEnergyML - Sample 3900 = 372.192\n",
      "hClusterEnergyML - Sample 4000 = 388.202\n",
      "hClusterEnergyML - Sample 4100 = 480.519\n",
      "hClusterEnergyML - Sample 4200 = 381.631\n",
      "hClusterEnergyML - Sample 4300 = 375.553\n",
      "hClusterEnergyML - Sample 4400 = 427.66\n",
      "hClusterEnergyML - Sample 4500 = 366.459\n",
      "hClusterEnergyML - Sample 4600 = 364.788\n",
      "hClusterEnergyML - Sample 4700 = 344.14\n",
      "hClusterEnergyML - Sample 4800 = 364.861\n",
      "hClusterEnergyML - Sample 4900 = 502.203\n",
      "hClusterEnergyML - Sample 5000 = 430.499\n",
      "hClusterEnergyML - Sample 5100 = 345.862\n",
      "hClusterEnergyML - Sample 5200 = 372.123\n",
      "hClusterEnergyML - Sample 5300 = 411.44\n",
      "hClusterEnergyML - Sample 5400 = 429.761\n",
      "hClusterEnergyML - Sample 5500 = 324.529\n",
      "hClusterEnergyML - Sample 5600 = 350.96\n",
      "hClusterEnergyML - Sample 5700 = 340.384\n",
      "hClusterEnergyML - Sample 5800 = 370.112\n",
      "hClusterEnergyML - Sample 5900 = 438.175\n",
      "hClusterEnergyML - Sample 6000 = 410.552\n",
      "hClusterEnergyML - Sample 6100 = 439.926\n",
      "hClusterEnergyML - Sample 6200 = 381.202\n",
      "hClusterEnergyML - Sample 6300 = 382.938\n",
      "hClusterEnergyML - Sample 6400 = 348.128\n",
      "hClusterEnergyML - Sample 6500 = 472.713\n",
      "hClusterEnergyML - Sample 6600 = 335.377\n",
      "hClusterEnergyML - Sample 6700 = 470.987\n",
      "hClusterEnergyML - Sample 6800 = 448.595\n",
      "hClusterEnergyML - Sample 6900 = 370.319\n",
      "hClusterEnergyML - Sample 7000 = 456.131\n",
      "hClusterEnergyML - Sample 7100 = 411.307\n",
      "hClusterEnergyML - Sample 7200 = 351.053\n",
      "hClusterEnergyML - Sample 7300 = 361.053\n",
      "hClusterEnergyML - Sample 7400 = 350.112\n",
      "hClusterEnergyML - Sample 7500 = 366.498\n",
      "hClusterEnergyML - Sample 7600 = 442.243\n",
      "hClusterEnergyML - Sample 7700 = 403.191\n",
      "hClusterEnergyML - Sample 7800 = 367.34\n",
      "hClusterEnergyML - Sample 7900 = 388.123\n",
      "hClusterEnergyML - Sample 8000 = 424.223\n",
      "hClusterEnergyML - Sample 8100 = 409.259\n",
      "hClusterEnergyML - Sample 8200 = 356.678\n",
      "hClusterEnergyML - Sample 8300 = 343.139\n",
      "hClusterEnergyML - Sample 8400 = 403.768\n",
      "hClusterEnergyML - Sample 8500 = 431.634\n",
      "hClusterEnergyML - Sample 8600 = 392.05\n",
      "hClusterEnergyML - Sample 8700 = 356.623\n",
      "hClusterEnergyML - Sample 8800 = 333.042\n",
      "hClusterEnergyML - Sample 8900 = 408.638\n",
      "hClusterEnergyML - Sample 9000 = 344.41\n",
      "hClusterEnergyML - Sample 9100 = 396.63\n",
      "hClusterEnergyML - Sample 9200 = 454.594\n",
      "hClusterEnergyML - Sample 9300 = 373.801\n",
      "hClusterEnergyML - Sample 9400 = 419.536\n",
      "hClusterEnergyML - Sample 9500 = 371.895\n",
      "hClusterEnergyML - Sample 9600 = 444.391\n",
      "hClusterEnergyML - Sample 9700 = 409.622\n",
      "hClusterEnergyML - Sample 9800 = 435.277\n",
      "hClusterEnergyML - Sample 9900 = 371.721\n",
      "\n",
      "****************************************\n",
      "Minimizer is Minuit2\n",
      "Chi2                      =      873.472\n",
      "NDf                       =           13\n",
      "Edm                       =  3.05077e-09\n",
      "NCalls                    =           76\n",
      "Constant                  =       2064.4   +/-   29.357      \n",
      "Mean                      =       384.72   +/-   0.498329    \n",
      "Sigma                     =      35.3207   +/-   0.342942     \t (limited)\n"
     ]
    }
   ],
   "source": [
    "\n",
    "const int N_layer = 48;\n",
    "const int N_sample = 10000;\n",
    "TH1 * hClusterEnergyTMean5 = dEdxStatTruncatedMean(hClusterEnergy,\"hClusterEnergyTMean5\",N_sample, N_layer,.5, kRed+3);\n",
    "TH1 * hClusterEnergyTMean3 = dEdxStatTruncatedMean(hClusterEnergy,\"hClusterEnergyTMean3\",N_sample, N_layer,.3, kGreen+3);\n",
    "TH1 * hClusterEnergyTMean2 = dEdxStatTruncatedMean(hClusterEnergy,\"hClusterEnergyTMean2\",N_sample, N_layer,.2, kCyan+3);\n",
    "TH1 * hClusterEnergyTMean1 = dEdxStatTruncatedMean(hClusterEnergy,\"hClusterEnergyTMean1\",N_sample, N_layer,.1, kBlue+3);\n",
    "// TH1 * hClusterEnergyML = dEdxStatML(hClusterEnergy,\"hClusterEnergyML\",N_sample/10, N_layer,hClusterEnergyFit, kMagenta+3);\n",
    "TH1 * hClusterEnergyML = dEdxStatML(hClusterEnergy,\"hClusterEnergyML\",N_sample, N_layer,hClusterEnergyFit, kMagenta+3);\n"
   ]
  },
  {
   "cell_type": "markdown",
   "metadata": {},
   "source": [
    "## Plot"
   ]
  },
  {
   "cell_type": "code",
   "execution_count": 15,
   "metadata": {},
   "outputs": [
    {
     "name": "stdout",
     "output_type": "stream",
     "text": [
      "Save TH1 hframe\n",
      "Save TH1 hClusterEnergyTMean5\n",
      "Save TF1 gaus\n",
      "Save TH1 hClusterEnergyTMean3\n",
      "Save TF1 gaus\n",
      "Save TH1 hClusterEnergyTMean2\n",
      "Save TF1 gaus\n"
     ]
    },
    {
     "name": "stderr",
     "output_type": "stream",
     "text": [
      "Info in <TCanvas::Print>: png file eta_0.3/tpc_beam_ALL-0000.evt_TpcPrototypeGenFitTrkFitter.rootTruckatedMean.png has been created\n",
      "Info in <TCanvas::SaveAs>: ROOT file eta_0.3/tpc_beam_ALL-0000.evt_TpcPrototypeGenFitTrkFitter.rootTruckatedMean.root has been created\n"
     ]
    },
    {
     "data": {
      "image/png": "[encoded data removed]",
      "text/plain": [
       "<IPython.core.display.Image object>"
      ]
     },
     "metadata": {},
     "output_type": "display_data"
    },
    {
     "name": "stdout",
     "output_type": "stream",
     "text": [
      "Save TH1 hClusterEnergyTMean1\n",
      "Save TF1 gaus\n",
      "Save TH1 hClusterEnergyML\n",
      "Save TF1 gaus\n"
     ]
    },
    {
     "name": "stderr",
     "output_type": "stream",
     "text": [
      "Info in <TCanvas::SaveSource>: C++ Macro file: eta_0.3/tpc_beam_ALL-0000.evt_TpcPrototypeGenFitTrkFitter.rootTruckatedMean.C has been generated\n"
     ]
    }
   ],
   "source": [
    "{\n",
    "    TCanvas *c1 = new TCanvas(\"TruckatedMean\", \"TruckatedMean\", 1200, 860);\n",
    "    //  c1->Divide(2, 1);\n",
    "    int idx = 1;\n",
    "    TPad *p = nullptr;\n",
    "\n",
    "    p = (TPad *) c1->cd(idx++);\n",
    "    c1->Update();\n",
    "//     p->SetLogy();\n",
    "    p->DrawFrame(0,0,1500,N_sample/3,\";Single track dE/dx [ADU];Track / bin\");\n",
    "    \n",
    "    TLegend *leg = new TLegend(.5, .3, .95, .9,  description);\n",
    "    leg->AddEntry(\"\", Form(\"dE/dx proj. for %d layers, #DeltaR=60cm\", N_layer),\"\");\n",
    "    TF1 * fitfunc (nullptr);\n",
    "    \n",
    "    \n",
    "    hClusterEnergyTMean5->Draw(\"same\");\n",
    "    fitfunc = (TF1 *)hClusterEnergyTMean5->GetListOfFunctions()->At(0);\n",
    "    fitfunc->Draw(\"same\");\n",
    "    leg->AddEntry(hClusterEnergyTMean5, Form(\"50%%-trucated mean, #sigma{dE/dx} = %.1f%%\",fitfunc->GetParameter(2)/fitfunc->GetParameter(1)*100), \"lpe\");\n",
    "    \n",
    "    hClusterEnergyTMean3->Draw(\"same\");\n",
    "    fitfunc = (TF1 *)hClusterEnergyTMean3->GetListOfFunctions()->At(0);\n",
    "    fitfunc->Draw(\"same\");\n",
    "    leg->AddEntry(hClusterEnergyTMean3, Form(\"30%%-trucated mean, #sigma{dE/dx} = %.1f%%\",fitfunc->GetParameter(2)/fitfunc->GetParameter(1)*100), \"lpe\");\n",
    "    \n",
    "    hClusterEnergyTMean2->Draw(\"same\");\n",
    "    fitfunc = (TF1 *)hClusterEnergyTMean2->GetListOfFunctions()->At(0);\n",
    "    fitfunc->Draw(\"same\");\n",
    "    leg->AddEntry(hClusterEnergyTMean2, Form(\"20%%-trucated mean, #sigma{dE/dx} = %.1f%%\",fitfunc->GetParameter(2)/fitfunc->GetParameter(1)*100), \"lpe\");\n",
    "    \n",
    "    hClusterEnergyTMean1->Draw(\"same\");\n",
    "    fitfunc = (TF1 *)hClusterEnergyTMean1->GetListOfFunctions()->At(0);\n",
    "    fitfunc->Draw(\"same\");\n",
    "    leg->AddEntry(hClusterEnergyTMean1, Form(\"10%%-trucated mean, #sigma{dE/dx} = %.1f%%\",fitfunc->GetParameter(2)/fitfunc->GetParameter(1)*100), \"lpe\");\n",
    "    \n",
    "    //TH1 * dEdxStatML(const TH1 * hPDF, TString name, const int N_sample, const int N_layer, const TF1 * fFit, Color_t color)\n",
    "    hClusterEnergyML->Draw(\"same\");\n",
    "    fitfunc = (TF1 *)hClusterEnergyML->GetListOfFunctions()->At(0);\n",
    "    fitfunc->Draw(\"same\");\n",
    "    leg->AddEntry(hClusterEnergyML, Form(\"Max Likelihood, #sigma{dE/dx} = %.1f%%\",fitfunc->GetParameter(2)/fitfunc->GetParameter(1)*100), \"lpe\");\n",
    "    \n",
    "    leg->Draw();\n",
    "    \n",
    "    c1->Draw();\n",
    "    SaveCanvas(c1,\n",
    "             TString(_file0->GetName()) + TString(c1->GetName()), kFALSE);\n",
    "}"
   ]
  },
  {
   "cell_type": "markdown",
   "metadata": {},
   "source": [
    "# Scratch\n",
    "If you're reading this you went too far"
   ]
  },
  {
   "cell_type": "code",
   "execution_count": 16,
   "metadata": {},
   "outputs": [],
   "source": [
    "%jsroot off\n"
   ]
  },
  {
   "cell_type": "code",
   "execution_count": 17,
   "metadata": {},
   "outputs": [
    {
     "name": "stdout",
     "output_type": "stream",
     "text": [
      "======> EVENT:1\n",
      " nTrack          = 1\n",
      " TPCTrack        = 1\n",
      " TPCTrack.fUniqueID = 0\n",
      " TPCTrack.fBits  = 50331648\n",
      " TPCTrack.trackID = 0\n",
      " TPCTrack.chisq  = 14.435780\n",
      " TPCTrack.ndf    = 23\n",
      " TPCTrack.px     = -89.229767\n",
      " TPCTrack.py     = -22.157173\n",
      " TPCTrack.pz     = -39.333302\n",
      " TPCTrack.x      = -1.041661\n",
      " TPCTrack.y      = -2.214429\n",
      " TPCTrack.z      = 3.610495\n",
      " TPCTrack.nCluster = 14\n",
      " TPCTrack.clusterX[16] = -38.927319 , -40.138393 , -41.360100 , -42.574509 , -43.781254 , \n",
      "                    -45.001564 , -46.213112 , -47.425018 , -48.638485 , -49.847561 , \n",
      "                    -51.068375 , -52.285408 , -53.495113 , -54.715733 , nan , \n",
      "                    nan \n",
      "\n",
      " TPCTrack.clusterY[16] = -11.621296 , -11.934197 , -12.210976 , -12.512071 , -12.839095 , \n",
      "                    -13.119636 , -13.429964 , -13.738935 , -14.042377 , -14.360923 , \n",
      "                    -14.638542 , -14.929060 , -15.245108 , -15.522702 , nan , \n",
      "                    nan \n",
      "\n",
      " TPCTrack.clusterZ[16] = -13.204751 , -13.603068 , -14.044616 , -14.550756 , -15.221588 , \n",
      "                    -15.889923 , -16.332640 , -16.842878 , -17.396839 , -17.950930 , \n",
      "                    -18.463495 , -18.980572 , -19.467215 , -20.013435 , nan , \n",
      "                    nan \n",
      "\n",
      " TPCTrack.clusterE[16] = 277.000000 , 979.000000 , 432.000000 , 474.000000 , 501.000000 , \n",
      "                    382.000000 , 379.000000 , 903.000000 , 501.000000 , 324.000000 , \n",
      "                    475.000000 , 673.000000 , 693.000000 , 387.000000 , nan , \n",
      "                    nan \n",
      "\n",
      " TPCTrack.clusterSizePhi[16] = 8.000000 , 10.000000 , 8.000000 , 8.000000 , 10.000000 , \n",
      "                    10.000000 , 8.000000 , 8.000000 , 8.000000 , 10.000000 , \n",
      "                    8.000000 , 8.000000 , 8.000000 , 10.000001 , nan , \n",
      "                    nan \n",
      "\n",
      " TPCTrack.clusterResidualPhi[16] = -0.000978 , 0.013954 , -0.017546 , -0.017353 , 0.012660 , \n",
      "                    -0.011353 , -0.001315 , 0.007099 , 0.009407 , 0.029328 , \n",
      "                    0.001868 , -0.011576 , 0.006896 , -0.025950 , nan , \n",
      "                    nan \n",
      "\n",
      " TPCTrack.clusterProjectionPhi[16] = -2.851453 , -2.852924 , -2.854106 , -2.855363 , -2.856612 , \n",
      "                    -2.857676 , -2.858746 , -2.859758 , -2.860712 , -2.861657 , \n",
      "                    -2.862467 , -2.863250 , -2.864095 , -2.864702 , nan , \n",
      "                    nan \n",
      "\n",
      " TPCTrack.clusterResidualZ[16] = -0.154798 , 0.027693 , 0.137914 , 0.165676 , 0.010361 , \n",
      "                    -0.134729 , -0.033741 , -0.006852 , -0.027386 , -0.048950 , \n",
      "                    -0.024643 , -0.004202 , 0.056453 , 0.045473 , nan , \n",
      "                    nan \n",
      "\n"
     ]
    }
   ],
   "source": [
    "T->Show(1)"
   ]
  },
  {
   "cell_type": "code",
   "execution_count": null,
   "metadata": {},
   "outputs": [],
   "source": []
  },
  {
   "cell_type": "code",
   "execution_count": 18,
   "metadata": {},
   "outputs": [
    {
     "name": "stdout",
     "output_type": "stream",
     "text": [
      "Formula based function:     gaus \n",
      "                 gaus : gaus Ndim= 1, Npar= 3, Number= 100 \n",
      " Formula expression: \n",
      "\t[Constant]*exp(-0.5*((x-[Mean])/[Sigma])*((x-[Mean])/[Sigma])) \n",
      "Contained histogram\n",
      "TH1.Print Name  = Func, Entries= 3000, Total sum= 132047\n"
     ]
    }
   ],
   "source": [
    "hClusterEnergyTMean5->GetListOfFunctions()->At(0)->Print()"
   ]
  },
  {
   "cell_type": "code",
   "execution_count": null,
   "metadata": {},
   "outputs": [],
   "source": []
  }
 ],
 "metadata": {
  "kernelspec": {
   "display_name": "sPHENIX ROOT C++",
   "language": "c++",
   "name": "sphenix-root"
  },
  "language_info": {
   "codemirror_mode": "text/x-c++src",
   "file_extension": ".C",
   "mimetype": " text/x-c++src",
   "name": "c++"
  }
 },
 "nbformat": 4,
 "nbformat_minor": 2
}
